{
 "cells": [
  {
   "cell_type": "code",
   "execution_count": 2,
   "metadata": {},
   "outputs": [],
   "source": [
    "import polars as pl\n",
    "import pandas as pd\n",
    "from ydata_profiling import ProfileReport"
   ]
  },
  {
   "cell_type": "code",
   "execution_count": 3,
   "metadata": {},
   "outputs": [],
   "source": [
    "columns_id = [\"id\"]\n",
    "columns_fact = [\"loan_amnt\",\"int_rate\",\"num_bc_tl\"]\n",
    "columns_cat = [\"addr_state\",\"application_type\",\"grade\",\"home_ownership\",\"initial_list_status\",\"purpose\",\"term\"]\n",
    "# columns_to_keep = columns_id + columns_fact + columns_cat\n",
    "columns_to_keep =['acc_now_delinq',\n",
    " 'acc_open_past_24mths',\n",
    " 'addr_state',\n",
    " 'all_util',\n",
    " 'annual_inc',\n",
    " 'annual_inc_joint',\n",
    " 'application_type',\n",
    " 'avg_cur_bal',\n",
    " 'bc_util',\n",
    " 'delinq_2yrs',\n",
    " 'delinq_amnt',\n",
    " 'desc',\n",
    " 'dti',\n",
    " 'dti_joint',\n",
    " 'earliest_cr_line',\n",
    " 'emp_title',\n",
    " 'emp_length',\n",
    " 'fico_range_high',\n",
    " 'fico_range_low',\n",
    " 'funded_amnt',\n",
    " 'funded_amnt_inv',\n",
    " 'grade',\n",
    " 'home_ownership',\n",
    " 'id',\n",
    " 'il_util',\n",
    " 'initial_list_status',\n",
    " 'inq_last_12m',\n",
    " 'installment',\n",
    " 'int_rate',\n",
    " 'issue_d',\n",
    " 'last_credit_pull_d',\n",
    " 'last_pymnt_d',\n",
    " 'loan_amnt',\n",
    " 'loan_status',\n",
    " 'max_bal_bc',\n",
    " 'mths_since_last_delinq',\n",
    " 'mths_since_recent_bc_dlq',\n",
    " 'mths_since_recent_revol_delinq',\n",
    " 'num_actv_rev_tl',\n",
    " 'num_rev_tl_bal_gt_0',\n",
    " 'open_acc',\n",
    " 'open_acc_6m',\n",
    " 'open_act_il',\n",
    " 'open_rv_12m',\n",
    " 'open_rv_24m',\n",
    " 'pct_tl_nvr_dlq',\n",
    " 'percent_bc_gt_75',\n",
    " 'purpose',\n",
    " 'pymnt_plan',\n",
    " 'revol_bal',\n",
    " 'revol_util',\n",
    " 'sub_grade']\n",
    "path = \"/home/eric/codecamp/accepted_2007_to_2018Q4.csv\"\n",
    "df = pl.read_csv(\"/home/eric/codecamp/accepted_2007_to_2018Q4.csv\",ignore_errors = True, columns  = columns_to_keep, n_rows = 100000)\n",
    "# df = pl.read_csv(\"/home/eric/codecamp/accepted_2007_to_2018Q4.csv\",ignore_errors = True)\n",
    "\n",
    "df.write_parquet(\"/home/eric/codecamp/accepted_2007_to_2018Q4.parquet\")\n",
    "\n",
    "df_pd = df.to_pandas()"
   ]
  },
  {
   "cell_type": "code",
   "execution_count": null,
   "metadata": {},
   "outputs": [],
   "source": [
    "import polars as pl\n",
    "import pyarrow as pa\n",
    "import pyarrow.parquet as pq\n",
    "\n",
    "path = \"/home/eric/codecamp/accepted_2007_to_2018Q4.csv\"\n",
    "parquet_path = \"/home/eric/codecamp/accepted_2007_to_2018Q4.parquet\"\n",
    "chunk_size = 100_000  # Adjust based on available memory\n",
    "\n",
    "reader = pl.read_csv(path, ignore_errors=True, batch_size=chunk_size)\n",
    "for i, df_chunk in enumerate(reader):\n",
    "    try:\n",
    "        # Ensure df_chunk is in Arrow Table format for Parquet writing\n",
    "        arrow_table = pa.Table.from_pandas(df_chunk.to_pandas())\n",
    "        chunk_file = f\"{parquet_path}_{i}.parquet\"\n",
    "        pq.write_table(arrow_table, chunk_file)\n",
    "    except AttributeError as e:\n",
    "        print(f\"Error in chunk {i}: {e}\")\n"
   ]
  },
  {
   "cell_type": "code",
   "execution_count": null,
   "metadata": {},
   "outputs": [],
   "source": [
    "import pandas as pd\n",
    "import pyarrow as pa\n",
    "import pyarrow.parquet as pq\n",
    "\n",
    "# Specify your CSV file path\n",
    "csv_file = \"/home/eric/codecamp/accepted_2007_to_2018Q4.csv\"\n",
    "\n",
    "# Specify Parquet output path\n",
    "parquet_file = \"/home/eric/codecamp/accepted_2007_to_2018Q4.parquet\"\n",
    "\n",
    "# Define chunk size (adjust according to your memory capacity)\n",
    "chunk_size = 1000000  # e.g., 100k rows at a time\n",
    "\n",
    "# Infer schema by reading the first chunk and setting the data types\n",
    "first_chunk = pd.read_csv(csv_file, nrows=chunk_size, low_memory=False)\n",
    "dtype_dict = {}\n",
    "\n",
    "# Adjust dtype_dict based on first chunk\n",
    "for col, dtype in first_chunk.dtypes.items():\n",
    "    if dtype == \"object\":\n",
    "        dtype_dict[col] = \"string\"  # Handle potential mixed types as strings\n",
    "    else:\n",
    "        dtype_dict[col] = dtype  # Use inferred dtype for numeric columns\n",
    "\n",
    "# Open a Parquet writer for streaming writes\n",
    "with pq.ParquetWriter(parquet_file, pa.schema(pa.Table.from_pandas(first_chunk.astype(dtype_dict)).schema), compression=\"snappy\") as writer:\n",
    "    # Process each chunk with the consistent schema\n",
    "    for chunk in pd.read_csv(csv_file, chunksize=chunk_size, dtype=dtype_dict, low_memory=False):\n",
    "        # Convert problematic columns to numeric, setting errors to NaN\n",
    "        for col, dtype in dtype_dict.items():\n",
    "            if dtype in [\"int64\", \"float64\"]:  # Adjust only numeric columns\n",
    "                chunk[col] = pd.to_numeric(chunk[col], errors='coerce')\n",
    "        \n",
    "        # Drop rows with NaN values in any numeric columns\n",
    "        chunk = chunk.dropna(subset=[col for col, dtype in dtype_dict.items() if dtype in [\"int64\", \"float64\"]])\n",
    "\n",
    "        # Convert chunk DataFrame to an Arrow Table and write directly to Parquet\n",
    "        table = pa.Table.from_pandas(chunk)\n",
    "        writer.write_table(table)\n"
   ]
  },
  {
   "cell_type": "code",
   "execution_count": null,
   "metadata": {},
   "outputs": [],
   "source": []
  },
  {
   "cell_type": "code",
   "execution_count": 8,
   "metadata": {},
   "outputs": [],
   "source": [
    "df_sample = df_pd"
   ]
  },
  {
   "cell_type": "code",
   "execution_count": 11,
   "metadata": {},
   "outputs": [],
   "source": [
    "profile = ProfileReport(df_sample, title=\"Profiling Report\", explorative= True)"
   ]
  },
  {
   "cell_type": "code",
   "execution_count": 12,
   "metadata": {},
   "outputs": [
    {
     "data": {
      "application/vnd.jupyter.widget-view+json": {
       "model_id": "bfe3dc6625834891bcc28173dee1790e",
       "version_major": 2,
       "version_minor": 0
      },
      "text/plain": [
       "Summarize dataset:   0%|          | 0/5 [00:00<?, ?it/s]"
      ]
     },
     "metadata": {},
     "output_type": "display_data"
    },
    {
     "data": {
      "application/vnd.jupyter.widget-view+json": {
       "model_id": "db40c517637542c481d4b669c6216323",
       "version_major": 2,
       "version_minor": 0
      },
      "text/plain": [
       "Generate report structure:   0%|          | 0/1 [00:00<?, ?it/s]"
      ]
     },
     "metadata": {},
     "output_type": "display_data"
    },
    {
     "data": {
      "application/vnd.jupyter.widget-view+json": {
       "model_id": "400669d874f4466e99f3426ec6813582",
       "version_major": 2,
       "version_minor": 0
      },
      "text/plain": [
       "Render HTML:   0%|          | 0/1 [00:00<?, ?it/s]"
      ]
     },
     "metadata": {},
     "output_type": "display_data"
    },
    {
     "data": {
      "application/vnd.jupyter.widget-view+json": {
       "model_id": "d5613616127f43bc9579067ce9ba3496",
       "version_major": 2,
       "version_minor": 0
      },
      "text/plain": [
       "Export report to file:   0%|          | 0/1 [00:00<?, ?it/s]"
      ]
     },
     "metadata": {},
     "output_type": "display_data"
    }
   ],
   "source": [
    "profile.to_file(\"profiling_report_explorative.html\")"
   ]
  }
 ],
 "metadata": {
  "kernelspec": {
   "display_name": "codecamp12",
   "language": "python",
   "name": "python3"
  },
  "language_info": {
   "codemirror_mode": {
    "name": "ipython",
    "version": 3
   },
   "file_extension": ".py",
   "mimetype": "text/x-python",
   "name": "python",
   "nbconvert_exporter": "python",
   "pygments_lexer": "ipython3",
   "version": "3.12.7"
  }
 },
 "nbformat": 4,
 "nbformat_minor": 2
}
